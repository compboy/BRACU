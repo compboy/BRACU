{
  "nbformat": 4,
  "nbformat_minor": 0,
  "metadata": {
    "colab": {
      "provenance": [],
      "include_colab_link": true
    },
    "kernelspec": {
      "name": "python3",
      "display_name": "Python 3"
    },
    "language_info": {
      "name": "python"
    }
  },
  "cells": [
    {
      "cell_type": "markdown",
      "metadata": {
        "id": "view-in-github",
        "colab_type": "text"
      },
      "source": [
        "<a href=\"https://colab.research.google.com/github/thlavlu/BRACU/blob/master/Lab05_Prantha.ipynb\" target=\"_parent\"><img src=\"https://colab.research.google.com/assets/colab-badge.svg\" alt=\"Open In Colab\"/></a>"
      ]
    },
    {
      "cell_type": "code",
      "metadata": {
        "colab": {
          "base_uri": "https://localhost:8080/",
          "height": 396
        },
        "id": "WyQUittxecTH",
        "outputId": "e8c9af62-bab3-438c-bc2c-31170c07fc7c"
      },
      "source": [
        "#Task03; Load the dataset as dataframe using pandas\n",
        "import pandas as pd\n",
        "import numpy as np\n",
        "import sklearn\n",
        "heart = pd.read_csv('/content/sample_data/heart failur classification dataset.csv')\n",
        "heart.head(10)\n"
      ],
      "execution_count": null,
      "outputs": [
        {
          "output_type": "execute_result",
          "data": {
            "text/html": [
              "<div>\n",
              "<style scoped>\n",
              "    .dataframe tbody tr th:only-of-type {\n",
              "        vertical-align: middle;\n",
              "    }\n",
              "\n",
              "    .dataframe tbody tr th {\n",
              "        vertical-align: top;\n",
              "    }\n",
              "\n",
              "    .dataframe thead th {\n",
              "        text-align: right;\n",
              "    }\n",
              "</style>\n",
              "<table border=\"1\" class=\"dataframe\">\n",
              "  <thead>\n",
              "    <tr style=\"text-align: right;\">\n",
              "      <th></th>\n",
              "      <th>Unnamed: 0</th>\n",
              "      <th>age</th>\n",
              "      <th>anaemia</th>\n",
              "      <th>creatinine_phosphokinase</th>\n",
              "      <th>diabetes</th>\n",
              "      <th>ejection_fraction</th>\n",
              "      <th>high_blood_pressure</th>\n",
              "      <th>platelets</th>\n",
              "      <th>serum_creatinine</th>\n",
              "      <th>serum_sodium</th>\n",
              "      <th>sex</th>\n",
              "      <th>smoking</th>\n",
              "      <th>time</th>\n",
              "      <th>DEATH_EVENT</th>\n",
              "    </tr>\n",
              "  </thead>\n",
              "  <tbody>\n",
              "    <tr>\n",
              "      <th>0</th>\n",
              "      <td>0</td>\n",
              "      <td>75.0</td>\n",
              "      <td>0</td>\n",
              "      <td>582</td>\n",
              "      <td>0</td>\n",
              "      <td>20</td>\n",
              "      <td>1</td>\n",
              "      <td>265000.00</td>\n",
              "      <td>1.9</td>\n",
              "      <td>NaN</td>\n",
              "      <td>Male</td>\n",
              "      <td>No</td>\n",
              "      <td>4.0</td>\n",
              "      <td>1</td>\n",
              "    </tr>\n",
              "    <tr>\n",
              "      <th>1</th>\n",
              "      <td>1</td>\n",
              "      <td>55.0</td>\n",
              "      <td>0</td>\n",
              "      <td>7861</td>\n",
              "      <td>0</td>\n",
              "      <td>38</td>\n",
              "      <td>0</td>\n",
              "      <td>263358.03</td>\n",
              "      <td>1.1</td>\n",
              "      <td>136.0</td>\n",
              "      <td>Male</td>\n",
              "      <td>No</td>\n",
              "      <td>6.0</td>\n",
              "      <td>1</td>\n",
              "    </tr>\n",
              "    <tr>\n",
              "      <th>2</th>\n",
              "      <td>2</td>\n",
              "      <td>65.0</td>\n",
              "      <td>0</td>\n",
              "      <td>146</td>\n",
              "      <td>0</td>\n",
              "      <td>20</td>\n",
              "      <td>0</td>\n",
              "      <td>162000.00</td>\n",
              "      <td>1.3</td>\n",
              "      <td>129.0</td>\n",
              "      <td>Male</td>\n",
              "      <td>Yes</td>\n",
              "      <td>7.0</td>\n",
              "      <td>1</td>\n",
              "    </tr>\n",
              "    <tr>\n",
              "      <th>3</th>\n",
              "      <td>3</td>\n",
              "      <td>50.0</td>\n",
              "      <td>1</td>\n",
              "      <td>111</td>\n",
              "      <td>0</td>\n",
              "      <td>20</td>\n",
              "      <td>0</td>\n",
              "      <td>210000.00</td>\n",
              "      <td>1.9</td>\n",
              "      <td>137.0</td>\n",
              "      <td>Male</td>\n",
              "      <td>No</td>\n",
              "      <td>7.0</td>\n",
              "      <td>1</td>\n",
              "    </tr>\n",
              "    <tr>\n",
              "      <th>4</th>\n",
              "      <td>4</td>\n",
              "      <td>65.0</td>\n",
              "      <td>1</td>\n",
              "      <td>160</td>\n",
              "      <td>1</td>\n",
              "      <td>20</td>\n",
              "      <td>0</td>\n",
              "      <td>327000.00</td>\n",
              "      <td>2.7</td>\n",
              "      <td>116.0</td>\n",
              "      <td>Female</td>\n",
              "      <td>No</td>\n",
              "      <td>8.0</td>\n",
              "      <td>1</td>\n",
              "    </tr>\n",
              "    <tr>\n",
              "      <th>5</th>\n",
              "      <td>5</td>\n",
              "      <td>90.0</td>\n",
              "      <td>1</td>\n",
              "      <td>47</td>\n",
              "      <td>0</td>\n",
              "      <td>40</td>\n",
              "      <td>1</td>\n",
              "      <td>204000.00</td>\n",
              "      <td>2.1</td>\n",
              "      <td>132.0</td>\n",
              "      <td>Male</td>\n",
              "      <td>Yes</td>\n",
              "      <td>8.0</td>\n",
              "      <td>1</td>\n",
              "    </tr>\n",
              "    <tr>\n",
              "      <th>6</th>\n",
              "      <td>6</td>\n",
              "      <td>75.0</td>\n",
              "      <td>1</td>\n",
              "      <td>246</td>\n",
              "      <td>0</td>\n",
              "      <td>15</td>\n",
              "      <td>0</td>\n",
              "      <td>127000.00</td>\n",
              "      <td>1.2</td>\n",
              "      <td>137.0</td>\n",
              "      <td>Male</td>\n",
              "      <td>No</td>\n",
              "      <td>10.0</td>\n",
              "      <td>1</td>\n",
              "    </tr>\n",
              "    <tr>\n",
              "      <th>7</th>\n",
              "      <td>7</td>\n",
              "      <td>60.0</td>\n",
              "      <td>1</td>\n",
              "      <td>315</td>\n",
              "      <td>1</td>\n",
              "      <td>60</td>\n",
              "      <td>0</td>\n",
              "      <td>454000.00</td>\n",
              "      <td>1.1</td>\n",
              "      <td>131.0</td>\n",
              "      <td>Male</td>\n",
              "      <td>Yes</td>\n",
              "      <td>10.0</td>\n",
              "      <td>1</td>\n",
              "    </tr>\n",
              "    <tr>\n",
              "      <th>8</th>\n",
              "      <td>8</td>\n",
              "      <td>65.0</td>\n",
              "      <td>0</td>\n",
              "      <td>157</td>\n",
              "      <td>0</td>\n",
              "      <td>65</td>\n",
              "      <td>0</td>\n",
              "      <td>263358.03</td>\n",
              "      <td>1.5</td>\n",
              "      <td>138.0</td>\n",
              "      <td>Female</td>\n",
              "      <td>No</td>\n",
              "      <td>10.0</td>\n",
              "      <td>1</td>\n",
              "    </tr>\n",
              "    <tr>\n",
              "      <th>9</th>\n",
              "      <td>9</td>\n",
              "      <td>80.0</td>\n",
              "      <td>1</td>\n",
              "      <td>123</td>\n",
              "      <td>0</td>\n",
              "      <td>35</td>\n",
              "      <td>1</td>\n",
              "      <td>388000.00</td>\n",
              "      <td>9.4</td>\n",
              "      <td>133.0</td>\n",
              "      <td>Male</td>\n",
              "      <td>Yes</td>\n",
              "      <td>10.0</td>\n",
              "      <td>1</td>\n",
              "    </tr>\n",
              "  </tbody>\n",
              "</table>\n",
              "</div>"
            ],
            "text/plain": [
              "   Unnamed: 0   age  anaemia  ...  smoking  time  DEATH_EVENT\n",
              "0           0  75.0        0  ...       No   4.0            1\n",
              "1           1  55.0        0  ...       No   6.0            1\n",
              "2           2  65.0        0  ...      Yes   7.0            1\n",
              "3           3  50.0        1  ...       No   7.0            1\n",
              "4           4  65.0        1  ...       No   8.0            1\n",
              "5           5  90.0        1  ...      Yes   8.0            1\n",
              "6           6  75.0        1  ...       No  10.0            1\n",
              "7           7  60.0        1  ...      Yes  10.0            1\n",
              "8           8  65.0        0  ...       No  10.0            1\n",
              "9           9  80.0        1  ...      Yes  10.0            1\n",
              "\n",
              "[10 rows x 14 columns]"
            ]
          },
          "metadata": {},
          "execution_count": 3
        }
      ]
    },
    {
      "cell_type": "code",
      "metadata": {
        "colab": {
          "base_uri": "https://localhost:8080/"
        },
        "id": "q--Vb_kce8FJ",
        "outputId": "1b206538-e2ac-4d8c-c442-b79ab2c9464c"
      },
      "source": [
        "mashroom.isnull().sum()"
      ],
      "execution_count": null,
      "outputs": [
        {
          "output_type": "execute_result",
          "data": {
            "text/plain": [
              "Unnamed: 0                  0\n",
              "age                         0\n",
              "anaemia                     0\n",
              "creatinine_phosphokinase    0\n",
              "diabetes                    0\n",
              "ejection_fraction           0\n",
              "high_blood_pressure         0\n",
              "platelets                   0\n",
              "serum_creatinine            0\n",
              "serum_sodium                6\n",
              "sex                         0\n",
              "smoking                     0\n",
              "time                        7\n",
              "DEATH_EVENT                 0\n",
              "dtype: int64"
            ]
          },
          "metadata": {},
          "execution_count": 2
        }
      ]
    },
    {
      "cell_type": "code",
      "metadata": {
        "colab": {
          "base_uri": "https://localhost:8080/"
        },
        "id": "M7TmaV2ofie6",
        "outputId": "7b4b6f50-c6f5-4dd1-8fc6-d72ab6807378"
      },
      "source": [
        "#Task04;Handle missing values if needed\n",
        "from sklearn.impute import SimpleImputer\n",
        "\n",
        "impute = SimpleImputer(missing_values=np.nan, strategy='mean')\n",
        "impute.fit(heart[['serum_sodium']], heart[['time']])\n",
        "heart['serum_sodium']=impute.transform(heart[['serum_sodium']])\n",
        "heart['time']=impute.transform(heart[['time']])\n",
        "print(heart.isnull().sum())"
      ],
      "execution_count": null,
      "outputs": [
        {
          "output_type": "stream",
          "text": [
            "Unnamed: 0                  0\n",
            "age                         0\n",
            "anaemia                     0\n",
            "creatinine_phosphokinase    0\n",
            "diabetes                    0\n",
            "ejection_fraction           0\n",
            "high_blood_pressure         0\n",
            "platelets                   0\n",
            "serum_creatinine            0\n",
            "serum_sodium                0\n",
            "sex                         0\n",
            "smoking                     0\n",
            "time                        0\n",
            "DEATH_EVENT                 0\n",
            "dtype: int64\n"
          ],
          "name": "stdout"
        }
      ]
    },
    {
      "cell_type": "code",
      "metadata": {
        "colab": {
          "base_uri": "https://localhost:8080/"
        },
        "id": "cdAVSKYXgcQj",
        "outputId": "3f4e9c5b-7c4c-4a19-f685-0c4952545b05"
      },
      "source": [
        "heart.info()"
      ],
      "execution_count": null,
      "outputs": [
        {
          "output_type": "stream",
          "text": [
            "<class 'pandas.core.frame.DataFrame'>\n",
            "RangeIndex: 299 entries, 0 to 298\n",
            "Data columns (total 14 columns):\n",
            " #   Column                    Non-Null Count  Dtype  \n",
            "---  ------                    --------------  -----  \n",
            " 0   Unnamed: 0                299 non-null    int64  \n",
            " 1   age                       299 non-null    float64\n",
            " 2   anaemia                   299 non-null    int64  \n",
            " 3   creatinine_phosphokinase  299 non-null    int64  \n",
            " 4   diabetes                  299 non-null    int64  \n",
            " 5   ejection_fraction         299 non-null    int64  \n",
            " 6   high_blood_pressure       299 non-null    int64  \n",
            " 7   platelets                 299 non-null    float64\n",
            " 8   serum_creatinine          299 non-null    float64\n",
            " 9   serum_sodium              299 non-null    float64\n",
            " 10  sex                       299 non-null    object \n",
            " 11  smoking                   299 non-null    object \n",
            " 12  time                      299 non-null    float64\n",
            " 13  DEATH_EVENT               299 non-null    int64  \n",
            "dtypes: float64(5), int64(7), object(2)\n",
            "memory usage: 32.8+ KB\n"
          ],
          "name": "stdout"
        }
      ]
    },
    {
      "cell_type": "code",
      "metadata": {
        "colab": {
          "base_uri": "https://localhost:8080/"
        },
        "id": "ufaE34o7gjiz",
        "outputId": "3210ea31-73eb-48b7-e777-408a7282956f"
      },
      "source": [
        "#Task05; Encode categorical features if needed\n",
        "from sklearn.preprocessing import LabelEncoder\n",
        "\n",
        "encoder = LabelEncoder()\n",
        "heart['sex']=encoder.fit_transform(heart['sex'])\n",
        "print(heart[['sex']].head())\n",
        "heart['smoking']=encoder.fit_transform(heart['smoking'])\n",
        "print(heart[['smoking']].head())"
      ],
      "execution_count": null,
      "outputs": [
        {
          "output_type": "stream",
          "text": [
            "   sex\n",
            "0    1\n",
            "1    1\n",
            "2    1\n",
            "3    1\n",
            "4    0\n",
            "   smoking\n",
            "0        0\n",
            "1        0\n",
            "2        1\n",
            "3        0\n",
            "4        0\n"
          ],
          "name": "stdout"
        }
      ]
    },
    {
      "cell_type": "code",
      "metadata": {
        "colab": {
          "base_uri": "https://localhost:8080/"
        },
        "id": "m6BT_SCfg_lp",
        "outputId": "bac6bb05-2ec9-4bec-cf99-6a779477a89b"
      },
      "source": [
        "#Task06; Scale all the values between 0-1 with proper scaling technique\n",
        "\n",
        "from sklearn.model_selection import train_test_split\n",
        "\n",
        "X,Y=heart.iloc[:,2:13],heart.iloc[:,13:]\n",
        "X_train, X_test,Y_train, Y_test=train_test_split(X,Y,random_state=1)\n",
        "print(X_train.shape)\n",
        "print(X_test.shape)"
      ],
      "execution_count": null,
      "outputs": [
        {
          "output_type": "stream",
          "text": [
            "(224, 11)\n",
            "(75, 11)\n"
          ],
          "name": "stdout"
        }
      ]
    },
    {
      "cell_type": "code",
      "metadata": {
        "colab": {
          "base_uri": "https://localhost:8080/"
        },
        "id": "4DPNyVbxhVvP",
        "outputId": "3bc2801b-f2e0-4245-9b7c-1d7fb949d05b"
      },
      "source": [
        "#Task07; Split the dataset into features and labels. Use your intuition to determine which column indicates the labels.\n",
        "from sklearn.preprocessing import MinMaxScaler\n",
        "\n",
        "scaler = MinMaxScaler()\n",
        "scaler.fit(X_train)\n",
        "X_train_scaled=scaler.transform(X_train)\n",
        "print(\"Per-feature minimum before scaling:\\n {}\".format(X_train.min(axis=0)))\n",
        "print(\"Per-feature maximum before scaling:\\n {}\".format(X_train.max(axis=0)))\n",
        "print(\"per-feature minimum after scaling:\\n {}\".format(\n",
        "    X_train_scaled.min(axis=0)))\n",
        "print(\"per-feature maximum after scaling:\\n {}\".format(\n",
        "    X_train_scaled.max(axis=0)))"
      ],
      "execution_count": null,
      "outputs": [
        {
          "output_type": "stream",
          "text": [
            "Per-feature minimum before scaling:\n",
            " anaemia                         0.0\n",
            "creatinine_phosphokinase       23.0\n",
            "diabetes                        0.0\n",
            "ejection_fraction              15.0\n",
            "high_blood_pressure             0.0\n",
            "platelets                   25100.0\n",
            "serum_creatinine                0.6\n",
            "serum_sodium                  113.0\n",
            "sex                             0.0\n",
            "smoking                         0.0\n",
            "time                            4.0\n",
            "dtype: float64\n",
            "Per-feature maximum before scaling:\n",
            " anaemia                          1.0\n",
            "creatinine_phosphokinase      7861.0\n",
            "diabetes                         1.0\n",
            "ejection_fraction               80.0\n",
            "high_blood_pressure              1.0\n",
            "platelets                   850000.0\n",
            "serum_creatinine                 9.4\n",
            "serum_sodium                   148.0\n",
            "sex                              1.0\n",
            "smoking                          1.0\n",
            "time                           280.0\n",
            "dtype: float64\n",
            "per-feature minimum after scaling:\n",
            " [0. 0. 0. 0. 0. 0. 0. 0. 0. 0. 0.]\n",
            "per-feature maximum after scaling:\n",
            " [1. 1. 1. 1. 1. 1. 1. 1. 1. 1. 1.]\n"
          ],
          "name": "stdout"
        }
      ]
    }
  ]
}